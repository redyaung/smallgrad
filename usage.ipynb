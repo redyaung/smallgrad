{
 "cells": [
  {
   "cell_type": "code",
   "execution_count": 1,
   "metadata": {},
   "outputs": [],
   "source": [
    "# auto-reload modules\n",
    "%load_ext autoreload\n",
    "%autoreload 2"
   ]
  },
  {
   "cell_type": "code",
   "execution_count": 2,
   "metadata": {},
   "outputs": [],
   "source": [
    "from Value import *"
   ]
  },
  {
   "cell_type": "code",
   "execution_count": 3,
   "metadata": {},
   "outputs": [
    {
     "data": {
      "text/plain": [
       "(1, 1, 1)"
      ]
     },
     "execution_count": 3,
     "metadata": {},
     "output_type": "execute_result"
    }
   ],
   "source": [
    "a = Value(2)\n",
    "b = Value(3)\n",
    "\n",
    "c = a + b\n",
    "c.backward()\n",
    "c.grad, a.grad, b.grad"
   ]
  },
  {
   "cell_type": "code",
   "execution_count": 4,
   "metadata": {},
   "outputs": [
    {
     "data": {
      "text/plain": [
       "(1, 3.0, 2.0)"
      ]
     },
     "execution_count": 4,
     "metadata": {},
     "output_type": "execute_result"
    }
   ],
   "source": [
    "d = a * b\n",
    "d.backward()\n",
    "d.grad, a.grad, b.grad"
   ]
  },
  {
   "cell_type": "code",
   "execution_count": 5,
   "metadata": {},
   "outputs": [
    {
     "data": {
      "text/plain": [
       "(1.0, 0.0)"
      ]
     },
     "execution_count": 5,
     "metadata": {},
     "output_type": "execute_result"
    }
   ],
   "source": [
    "e = Value(-8)\n",
    "f = e.relu()\n",
    "f.backward()\n",
    "f.grad, e.grad"
   ]
  },
  {
   "cell_type": "code",
   "execution_count": 36,
   "metadata": {},
   "outputs": [
    {
     "data": {
      "text/plain": [
       "(array(6.0024757, dtype=float32),\n",
       " 1.0,\n",
       " array([[-0.99752736,  0.9975274 ]], dtype=float32))"
      ]
     },
     "execution_count": 36,
     "metadata": {},
     "output_type": "execute_result"
    }
   ],
   "source": [
    "g = Value([[-1, 5]])\n",
    "gl0 = g.softmax([0])\n",
    "gl0.zero_grad()\n",
    "gl0.backward()\n",
    "gl0.value, gl0.grad, g.grad"
   ]
  },
  {
   "cell_type": "code",
   "execution_count": 37,
   "metadata": {},
   "outputs": [
    {
     "name": "stdout",
     "output_type": "stream",
     "text": [
      "0.0024756414\n",
      "[[ 0.00247262 -0.00247258]]\n",
      "0.0024635117\n"
     ]
    }
   ],
   "source": [
    "gl1 = g.softmax([1])\n",
    "gl1.zero_grad()\n",
    "gl1.backward()\n",
    "print(gl1.value)\n",
    "print(g.grad)\n",
    "g.value -= g.grad\n",
    "gl1 = g.softmax([1])\n",
    "print(gl1.value)        # gl1 value should be decreased"
   ]
  },
  {
   "cell_type": "code",
   "execution_count": 26,
   "metadata": {},
   "outputs": [
    {
     "name": "stdout",
     "output_type": "stream",
     "text": [
      "3.0\n",
      "10.0\n",
      "6.0\n"
     ]
    }
   ],
   "source": [
    "h = a + b       # a = 2, b = 3\n",
    "i = h * b + a * b\n",
    "i.zero_grad()\n",
    "i.backward()\n",
    "print(h.grad)   # expected: b * di = 3 * 1 = 3\n",
    "print(b.grad)   # expected: (h + a) * di + dh = (5 + 2) * 1 + 3 = 10\n",
    "print(a.grad)   # expected: b * di + dh = 3 + 3 = 6"
   ]
  },
  {
   "cell_type": "code",
   "execution_count": null,
   "metadata": {},
   "outputs": [],
   "source": []
  }
 ],
 "metadata": {
  "kernelspec": {
   "display_name": "Python 3",
   "language": "python",
   "name": "python3"
  },
  "language_info": {
   "codemirror_mode": {
    "name": "ipython",
    "version": 3
   },
   "file_extension": ".py",
   "mimetype": "text/x-python",
   "name": "python",
   "nbconvert_exporter": "python",
   "pygments_lexer": "ipython3",
   "version": "3.9.7"
  },
  "orig_nbformat": 4,
  "vscode": {
   "interpreter": {
    "hash": "aee8b7b246df8f9039afb4144a1f6fd8d2ca17a180786b69acc140d282b71a49"
   }
  }
 },
 "nbformat": 4,
 "nbformat_minor": 2
}
